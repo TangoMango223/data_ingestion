{
 "cells": [
  {
   "cell_type": "markdown",
   "metadata": {},
   "source": [
    "# Connection to MMAI DB via Python and SQL Alchemy - Code"
   ]
  },
  {
   "cell_type": "code",
   "execution_count": 7,
   "metadata": {},
   "outputs": [],
   "source": [
    "# Install statements\n",
    "# If you are properly using the virtual environment, you shouldn't have errors with this import statement.\n",
    "import pandas as pd \n",
    "import sqlalchemy as sa "
   ]
  },
  {
   "cell_type": "markdown",
   "metadata": {},
   "source": [
    "## ENTER YOUR YORK USERNAME BELOW!!\n",
    "\n",
    "* This notebook's output is valid since I used my own username. If you run this again without changing below, it will fail!"
   ]
  },
  {
   "cell_type": "code",
   "execution_count": 8,
   "metadata": {},
   "outputs": [],
   "source": [
    "# Replace this with your username:\n",
    "york_username = \"INSERT_YOUR_USERNAME_PLEASE_LOL\""
   ]
  },
  {
   "cell_type": "code",
   "execution_count": 9,
   "metadata": {},
   "outputs": [],
   "source": [
    "# Dictionary - params to set up the DB Engine\n",
    "mmai_db_secret = {\n",
    "    \"database\" : \"mmai_db\",\n",
    "    \"drivername\" : \"mssql+pyodbc\",\n",
    "    \"host\" : \"mmai2024-ms-sql-server.c1oick8a8ywa.ca-central-1.rds.amazonaws.com\",\n",
    "    \"port\" : \"1433\",\n",
    "    \"username\": york_username,\n",
    "    \"password\": \"2024!Schulich\",\n",
    "    \"driver\": \"ODBC Driver 18 for SQL Server\",\n",
    "    \"trust_cert\" : \"yes\"\n",
    "}"
   ]
  },
  {
   "cell_type": "code",
   "execution_count": 10,
   "metadata": {},
   "outputs": [],
   "source": [
    "# Function to create the DB engine - DO NOT TOUCH\n",
    "def create_db_engine(db_config):\n",
    "    connection_url = sa.engine.URL.create(\n",
    "        drivername = db_config.get(\"drivername\"),\n",
    "        username = db_config.get(\"username\"),\n",
    "        password = db_config.get(\"password\"),\n",
    "        host  = db_config.get(\"host\"),\n",
    "        port  = db_config.get(\"port\"),\n",
    "        database  = db_config.get(\"database\"),\n",
    "        query = {\n",
    "            \"driver\" : db_config.get(\"driver\"),\n",
    "            \"TrustServerCertificate\": db_config.get(\"trust_cert\")\n",
    "        }\n",
    "    )\n",
    "    return sa.create_engine(connection_url)"
   ]
  },
  {
   "cell_type": "code",
   "execution_count": 11,
   "metadata": {},
   "outputs": [],
   "source": [
    "# Initialize the MySql Engine using SQL Alchemy\n",
    "mssql_engine = create_db_engine(mmai_db_secret)"
   ]
  },
  {
   "cell_type": "code",
   "execution_count": 12,
   "metadata": {},
   "outputs": [],
   "source": [
    "# Read SQL file\n",
    "with mssql_engine.connect() as connection:\n",
    "    data = pd.read_sql(sql=\"SELECT * FROM assignment01.bakery_sales;\", con=connection)\n"
   ]
  },
  {
   "cell_type": "code",
   "execution_count": 13,
   "metadata": {},
   "outputs": [
    {
     "name": "stdout",
     "output_type": "stream",
     "text": [
      "<class 'pandas.core.frame.DataFrame'>\n",
      "RangeIndex: 234005 entries, 0 to 234004\n",
      "Data columns (total 7 columns):\n",
      " #   Column         Non-Null Count   Dtype         \n",
      "---  ------         --------------   -----         \n",
      " 0   sale_date      234005 non-null  object        \n",
      " 1   sale_time      234005 non-null  object        \n",
      " 2   ticket_number  234005 non-null  int64         \n",
      " 3   article        234005 non-null  object        \n",
      " 4   quantity       234005 non-null  int64         \n",
      " 5   unit_price     234000 non-null  float64       \n",
      " 6   sale_datetime  234005 non-null  datetime64[ns]\n",
      "dtypes: datetime64[ns](1), float64(1), int64(2), object(3)\n",
      "memory usage: 12.5+ MB\n"
     ]
    }
   ],
   "source": [
    "# You can now treat data as a Pandas Dataframe.\n",
    "data.info()"
   ]
  },
  {
   "cell_type": "code",
   "execution_count": 14,
   "metadata": {},
   "outputs": [
    {
     "data": {
      "text/html": [
       "<div>\n",
       "<style scoped>\n",
       "    .dataframe tbody tr th:only-of-type {\n",
       "        vertical-align: middle;\n",
       "    }\n",
       "\n",
       "    .dataframe tbody tr th {\n",
       "        vertical-align: top;\n",
       "    }\n",
       "\n",
       "    .dataframe thead th {\n",
       "        text-align: right;\n",
       "    }\n",
       "</style>\n",
       "<table border=\"1\" class=\"dataframe\">\n",
       "  <thead>\n",
       "    <tr style=\"text-align: right;\">\n",
       "      <th></th>\n",
       "      <th>sale_date</th>\n",
       "      <th>sale_time</th>\n",
       "      <th>ticket_number</th>\n",
       "      <th>article</th>\n",
       "      <th>quantity</th>\n",
       "      <th>unit_price</th>\n",
       "      <th>sale_datetime</th>\n",
       "    </tr>\n",
       "  </thead>\n",
       "  <tbody>\n",
       "    <tr>\n",
       "      <th>0</th>\n",
       "      <td>2021-07-17</td>\n",
       "      <td>11:26:00</td>\n",
       "      <td>189122</td>\n",
       "      <td>TRADITIONAL BAGUETTE</td>\n",
       "      <td>2</td>\n",
       "      <td>1.2</td>\n",
       "      <td>2021-07-17 11:26:00</td>\n",
       "    </tr>\n",
       "    <tr>\n",
       "      <th>1</th>\n",
       "      <td>2021-07-17</td>\n",
       "      <td>11:26:00</td>\n",
       "      <td>189122</td>\n",
       "      <td>MOISSON</td>\n",
       "      <td>1</td>\n",
       "      <td>2.0</td>\n",
       "      <td>2021-07-17 11:26:00</td>\n",
       "    </tr>\n",
       "    <tr>\n",
       "      <th>2</th>\n",
       "      <td>2021-07-17</td>\n",
       "      <td>11:26:00</td>\n",
       "      <td>189123</td>\n",
       "      <td>PAIN AU CHOCOLAT</td>\n",
       "      <td>4</td>\n",
       "      <td>1.2</td>\n",
       "      <td>2021-07-17 11:26:00</td>\n",
       "    </tr>\n",
       "    <tr>\n",
       "      <th>3</th>\n",
       "      <td>2021-07-17</td>\n",
       "      <td>11:26:00</td>\n",
       "      <td>189124</td>\n",
       "      <td>TRADITIONAL BAGUETTE</td>\n",
       "      <td>2</td>\n",
       "      <td>1.2</td>\n",
       "      <td>2021-07-17 11:26:00</td>\n",
       "    </tr>\n",
       "    <tr>\n",
       "      <th>4</th>\n",
       "      <td>2021-07-17</td>\n",
       "      <td>11:27:00</td>\n",
       "      <td>189125</td>\n",
       "      <td>TRADITIONAL BAGUETTE</td>\n",
       "      <td>1</td>\n",
       "      <td>1.2</td>\n",
       "      <td>2021-07-17 11:27:00</td>\n",
       "    </tr>\n",
       "    <tr>\n",
       "      <th>5</th>\n",
       "      <td>2021-07-17</td>\n",
       "      <td>11:27:00</td>\n",
       "      <td>189126</td>\n",
       "      <td>TRADITIONAL BAGUETTE</td>\n",
       "      <td>3</td>\n",
       "      <td>1.2</td>\n",
       "      <td>2021-07-17 11:27:00</td>\n",
       "    </tr>\n",
       "    <tr>\n",
       "      <th>6</th>\n",
       "      <td>2021-07-17</td>\n",
       "      <td>11:28:00</td>\n",
       "      <td>189127</td>\n",
       "      <td>TRADITIONAL BAGUETTE</td>\n",
       "      <td>1</td>\n",
       "      <td>1.2</td>\n",
       "      <td>2021-07-17 11:28:00</td>\n",
       "    </tr>\n",
       "    <tr>\n",
       "      <th>7</th>\n",
       "      <td>2021-07-17</td>\n",
       "      <td>11:28:00</td>\n",
       "      <td>189127</td>\n",
       "      <td>BANETTINE</td>\n",
       "      <td>1</td>\n",
       "      <td>0.6</td>\n",
       "      <td>2021-07-17 11:28:00</td>\n",
       "    </tr>\n",
       "    <tr>\n",
       "      <th>8</th>\n",
       "      <td>2021-07-17</td>\n",
       "      <td>11:29:00</td>\n",
       "      <td>189128</td>\n",
       "      <td>TRADITIONAL BAGUETTE</td>\n",
       "      <td>2</td>\n",
       "      <td>1.2</td>\n",
       "      <td>2021-07-17 11:29:00</td>\n",
       "    </tr>\n",
       "    <tr>\n",
       "      <th>9</th>\n",
       "      <td>2021-07-17</td>\n",
       "      <td>11:29:00</td>\n",
       "      <td>189128</td>\n",
       "      <td>CHAUSSON AUX POMMES</td>\n",
       "      <td>1</td>\n",
       "      <td>1.4</td>\n",
       "      <td>2021-07-17 11:29:00</td>\n",
       "    </tr>\n",
       "  </tbody>\n",
       "</table>\n",
       "</div>"
      ],
      "text/plain": [
       "    sale_date sale_time  ticket_number               article  quantity  \\\n",
       "0  2021-07-17  11:26:00         189122  TRADITIONAL BAGUETTE         2   \n",
       "1  2021-07-17  11:26:00         189122               MOISSON         1   \n",
       "2  2021-07-17  11:26:00         189123      PAIN AU CHOCOLAT         4   \n",
       "3  2021-07-17  11:26:00         189124  TRADITIONAL BAGUETTE         2   \n",
       "4  2021-07-17  11:27:00         189125  TRADITIONAL BAGUETTE         1   \n",
       "5  2021-07-17  11:27:00         189126  TRADITIONAL BAGUETTE         3   \n",
       "6  2021-07-17  11:28:00         189127  TRADITIONAL BAGUETTE         1   \n",
       "7  2021-07-17  11:28:00         189127             BANETTINE         1   \n",
       "8  2021-07-17  11:29:00         189128  TRADITIONAL BAGUETTE         2   \n",
       "9  2021-07-17  11:29:00         189128   CHAUSSON AUX POMMES         1   \n",
       "\n",
       "   unit_price       sale_datetime  \n",
       "0         1.2 2021-07-17 11:26:00  \n",
       "1         2.0 2021-07-17 11:26:00  \n",
       "2         1.2 2021-07-17 11:26:00  \n",
       "3         1.2 2021-07-17 11:26:00  \n",
       "4         1.2 2021-07-17 11:27:00  \n",
       "5         1.2 2021-07-17 11:27:00  \n",
       "6         1.2 2021-07-17 11:28:00  \n",
       "7         0.6 2021-07-17 11:28:00  \n",
       "8         1.2 2021-07-17 11:29:00  \n",
       "9         1.4 2021-07-17 11:29:00  "
      ]
     },
     "execution_count": 14,
     "metadata": {},
     "output_type": "execute_result"
    }
   ],
   "source": [
    "data.head(10)"
   ]
  }
 ],
 "metadata": {
  "kernelspec": {
   "display_name": ".venv",
   "language": "python",
   "name": "python3"
  },
  "language_info": {
   "codemirror_mode": {
    "name": "ipython",
    "version": 3
   },
   "file_extension": ".py",
   "mimetype": "text/x-python",
   "name": "python",
   "nbconvert_exporter": "python",
   "pygments_lexer": "ipython3",
   "version": "3.12.3"
  }
 },
 "nbformat": 4,
 "nbformat_minor": 2
}
