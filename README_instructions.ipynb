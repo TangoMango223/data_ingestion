{
 "cells": [
  {
   "cell_type": "markdown",
   "metadata": {},
   "source": [
    "# 💾 MMAI 5100 - Data Ingestion Setup - Python Guide"
   ]
  },
  {
   "cell_type": "markdown",
   "metadata": {},
   "source": [
    "Written by: Christine Tang <br>\n",
    "*Please follow these instructions CLEARLY and IN ORDER!*\n",
    "\n",
    "It is recommended:\n",
    "* Complete the steps all on VS Code!\n",
    "* Ideally, run the most recent version of Python: https://www.redswitches.com/blog/upgrade-python/\n",
    "* Read the entire guide before executing any of the steps\n",
    "* All the steps below were taken on MacOSX, conceptually the steps are the same for other operating systems. <br> The only major differnce is the driver installation."
   ]
  },
  {
   "cell_type": "markdown",
   "metadata": {},
   "source": [
    "# PART 1: Set up on VS Code"
   ]
  },
  {
   "cell_type": "markdown",
   "metadata": {},
   "source": [
    "### 1. Download the connection_test files, from the public github:\n",
    "Navigate here: https://github.com/TangoMango223/data_ingestion"
   ]
  },
  {
   "cell_type": "markdown",
   "metadata": {},
   "source": [
    "### 2. Download the files from the Github location - Click \"Download ZIP\" and unzip on your laptop.\n",
    "\n",
    "Go to <> Code --> \"Download ZIP\""
   ]
  },
  {
   "cell_type": "markdown",
   "metadata": {},
   "source": [
    "<img src=\"https://raw.githubusercontent.com/TangoMango223/data_ingestion/main/Tutorial_pictures/01.png\" alt=\"Step #3\" style=\"width:500px;\">"
   ]
  },
  {
   "cell_type": "markdown",
   "metadata": {},
   "source": [
    "## 3. Save the files in an accessible location.\n",
    "For example. I save them all under a VS Code location. Example:"
   ]
  },
  {
   "cell_type": "markdown",
   "metadata": {},
   "source": [
    "<img src=\"https://raw.githubusercontent.com/TangoMango223/data_ingestion/main/Tutorial_pictures/02.png\" alt=\"Step #3\" style=\"width:500px;\">"
   ]
  },
  {
   "cell_type": "markdown",
   "metadata": {},
   "source": [
    "## 4. Open location of \"data_ingestion-main\" on VSCode.\n",
    "* Open VS Code\n",
    "* Click Start > Open Folder, and find the location...\n",
    "\n",
    "It should look like this:"
   ]
  },
  {
   "cell_type": "markdown",
   "metadata": {},
   "source": [
    "<img src=\"https://raw.githubusercontent.com/TangoMango223/data_ingestion/main/Tutorial_pictures/03.png\" alt=\"Step #3\" style=\"width:500px;\">"
   ]
  },
  {
   "cell_type": "markdown",
   "metadata": {},
   "source": [
    "<img src=\"https://raw.githubusercontent.com/TangoMango223/data_ingestion/main/Tutorial_pictures/04.png\" alt=\"Step #4\" style=\"width:500px;\">"
   ]
  },
  {
   "cell_type": "markdown",
   "metadata": {},
   "source": [
    "## 5. IMPORTANT: Create Virtual Environment in VS Code.\n",
    "\n",
    "Why: A virtual environment in Python is an isolated environment that allows you to manage dependencies for a specific project without \n",
    "affecting other projects or the global Python installation. In VS Code, using a virtual environment ensures that you have a clean, project-specific setup with the required packages and dependencies."
   ]
  },
  {
   "cell_type": "markdown",
   "metadata": {},
   "source": [
    "### 1. Find and locate the \"connection_test.py\" file. <br>\n",
    "\n",
    "Go to \"examples\" folder > connection_test.py\n",
    "\n",
    "### On the BOTTOM RIGHT CORNER ON VS-CODE, click the name of your Python version.\n",
    "For example, click on \"3.12.4 64-bit\""
   ]
  },
  {
   "cell_type": "markdown",
   "metadata": {},
   "source": [
    "<img src=\"https://raw.githubusercontent.com/TangoMango223/data_ingestion/main/Tutorial_pictures/05.png\" alt=\"Step #5\" style=\"width:500px;\">"
   ]
  },
  {
   "cell_type": "markdown",
   "metadata": {},
   "source": [
    "### 2. A middle portion should pop-up. Click \"Create Virtual Environment...\" "
   ]
  },
  {
   "cell_type": "markdown",
   "metadata": {},
   "source": [
    "<img src=\"https://raw.githubusercontent.com/TangoMango223/data_ingestion/main/Tutorial_pictures/06.png\" alt=\"Step #6\" style=\"width:500px;\">"
   ]
  },
  {
   "cell_type": "markdown",
   "metadata": {},
   "source": [
    "### 3. Select \"Venv Create a '.venv' virtual environment in the current workplace"
   ]
  },
  {
   "cell_type": "markdown",
   "metadata": {},
   "source": [
    "<img src=\"https://raw.githubusercontent.com/TangoMango223/data_ingestion/main/Tutorial_pictures/06-5.png\" alt=\"Step #6\" style=\"width:500px;\">"
   ]
  },
  {
   "cell_type": "markdown",
   "metadata": {},
   "source": [
    "### 4. Select interpreter path. \n",
    "For example, it should be the most recent version of Python, i.e. Python 3.12.4 64 bit for me:"
   ]
  },
  {
   "cell_type": "markdown",
   "metadata": {},
   "source": [
    "<img src=\"https://raw.githubusercontent.com/TangoMango223/data_ingestion/main/Tutorial_pictures/07.png\" alt=\"Step #6\" style=\"width:500px;\">"
   ]
  },
  {
   "cell_type": "markdown",
   "metadata": {},
   "source": [
    "### 5. Select dependencies to install - click the checkmark. \"Requirements.txt\" should be selected!"
   ]
  },
  {
   "cell_type": "markdown",
   "metadata": {},
   "source": [
    "<img src=\"https://raw.githubusercontent.com/TangoMango223/data_ingestion/main/Tutorial_pictures/08.png\" alt=\"Step #7\" style=\"width:500px;\">"
   ]
  },
  {
   "cell_type": "markdown",
   "metadata": {},
   "source": [
    "### 6. If you did this correctly, you should see a \".venv\" in your left panel. If so - GREAT JOB! 👏"
   ]
  },
  {
   "cell_type": "markdown",
   "metadata": {},
   "source": [
    "<img src=\"https://raw.githubusercontent.com/TangoMango223/data_ingestion/main/Tutorial_pictures/09.png\" alt=\"Step #8\" style=\"width:500px;\">"
   ]
  },
  {
   "cell_type": "markdown",
   "metadata": {},
   "source": [
    "### 7. Go to folder \"examples\" > Click on \"connection_test.py\" and run file by clicking \"play\"  on top right corner.\n",
    "If it ran without any errors (i.e. no red text), that means all required dependencies and packages were installed. <br>\n",
    "You can see under my terminal, I had no errors, so it ran successfully."
   ]
  },
  {
   "cell_type": "markdown",
   "metadata": {},
   "source": [
    "<img src=\"https://raw.githubusercontent.com/TangoMango223/data_ingestion/main/Tutorial_pictures/11.png\" alt=\"Step #9\" style=\"width:500px;\">"
   ]
  },
  {
   "cell_type": "markdown",
   "metadata": {},
   "source": [
    "<img src=\"https://raw.githubusercontent.com/TangoMango223/data_ingestion/main/Tutorial_pictures/10.png\" alt=\"Step #9\" style=\"width:500px;\">"
   ]
  },
  {
   "cell_type": "markdown",
   "metadata": {},
   "source": [
    "# PART 2: Install ODBC Driver 18 for your Operating System"
   ]
  },
  {
   "cell_type": "markdown",
   "metadata": {},
   "source": [
    "## For Windows Operating Users:\n",
    "\n",
    "1. Navigate here: https://learn.microsoft.com/en-us/sql/connect/odbc/download-odbc-driver-for-sql-server?view=sql-server-ver16"
   ]
  },
  {
   "cell_type": "markdown",
   "metadata": {},
   "source": [
    "2. Download Microsoft ODBC Driver 18 for SQL Server. Select the right version based on your laptop.\n",
    "\n",
    "* How to check your Windows version: https://www.minitool.com/news/how-to-tell-if-windows-11-is-64-arm64.html"
   ]
  },
  {
   "cell_type": "markdown",
   "metadata": {},
   "source": [
    "Here is an example of what to download:"
   ]
  },
  {
   "cell_type": "markdown",
   "metadata": {},
   "source": [
    "<img src=\"https://raw.githubusercontent.com/TangoMango223/data_ingestion/main/Tutorial_pictures/12.png\" alt=\"Step #12\" style=\"width:500px;\">"
   ]
  },
  {
   "cell_type": "markdown",
   "metadata": {},
   "source": [
    "3. Once downloaded, follow the instructions for installation. Good job! 😄"
   ]
  },
  {
   "cell_type": "markdown",
   "metadata": {},
   "source": [
    "## For Mac Operating Users:"
   ]
  },
  {
   "cell_type": "markdown",
   "metadata": {},
   "source": [
    "1. Navigate here: https://learn.microsoft.com/en-us/sql/connect/odbc/linux-mac/install-microsoft-odbc-driver-sql-server-macos?view=sql-server-ver16"
   ]
  },
  {
   "cell_type": "markdown",
   "metadata": {},
   "source": [
    "2. Open the \"Terminal\" section in your VS Code.\n",
    "\n",
    "* It should either be visible at the bottom, OR go to the top bar > \"View\" > \"Terminal\""
   ]
  },
  {
   "cell_type": "markdown",
   "metadata": {},
   "source": [
    "<img src=\"https://raw.githubusercontent.com/TangoMango223/data_ingestion/main/Tutorial_pictures/13.png\" alt=\"Step #13\" style=\"width:500px;\">"
   ]
  },
  {
   "cell_type": "markdown",
   "metadata": {},
   "source": [
    "The terminal should look like this:"
   ]
  },
  {
   "cell_type": "markdown",
   "metadata": {},
   "source": [
    "<img src=\"https://raw.githubusercontent.com/TangoMango223/data_ingestion/main/Tutorial_pictures/14.png\" alt=\"Step #14\" style=\"width:500px;\">"
   ]
  },
  {
   "cell_type": "markdown",
   "metadata": {},
   "source": [
    "3. Copy the following code, and paste it in your terminal. Hit Enter/Return.\n",
    "\n",
    "/bin/bash -c \"$(curl -fsSL https://raw.githubusercontent.com/Homebrew/install/master/install.sh)\""
   ]
  },
  {
   "cell_type": "markdown",
   "metadata": {},
   "source": [
    "<img src=\"https://raw.githubusercontent.com/TangoMango223/data_ingestion/main/Tutorial_pictures/17.png\" alt=\"Step #17\" style=\"width:500px;\">"
   ]
  },
  {
   "cell_type": "markdown",
   "metadata": {},
   "source": [
    "4. Copy this line next:  <br>\n",
    "\n",
    "brew tap microsoft/mssql-release https://github.com/Microsoft/homebrew-mssql-release"
   ]
  },
  {
   "cell_type": "markdown",
   "metadata": {},
   "source": [
    "5. Copy this line next and hit run:  <br>\n",
    "\n",
    "brew update"
   ]
  },
  {
   "cell_type": "markdown",
   "metadata": {},
   "source": [
    "6. Copy this line next and hit run:  <br>\n",
    "\n",
    "HOMEBREW_ACCEPT_EULA=Y brew install msodbcsql17 mssql-tools"
   ]
  },
  {
   "cell_type": "markdown",
   "metadata": {},
   "source": [
    "7. It will ask you for a password, enter your password. It will ask you to confirm the installation, hint \"Return\""
   ]
  },
  {
   "cell_type": "markdown",
   "metadata": {},
   "source": [
    "8. If successful, you should see something like below:"
   ]
  },
  {
   "cell_type": "markdown",
   "metadata": {},
   "source": [
    "<img src=\"https://raw.githubusercontent.com/TangoMango223/data_ingestion/main/Tutorial_pictures/16.png\" alt=\"Step #16\" style=\"width:500px;\">"
   ]
  },
  {
   "cell_type": "markdown",
   "metadata": {},
   "source": [
    "## For Linux Users:\n",
    "(Sorry you'll need to figure this out, I only tested on Windows and MacOSX)\n",
    "\n",
    "https://learn.microsoft.com/en-us/sql/connect/odbc/linux-mac/installing-the-microsoft-odbc-driver-for-sql-server?view=sql-server-ver16&tabs=alpine18-install%2Calpine17-install%2Cdebian8-install%2Credhat7-13-install%2Crhel7-offline"
   ]
  },
  {
   "cell_type": "markdown",
   "metadata": {},
   "source": [
    "# PART 3.5: ODBC Driver Path Validation (Mac Users ONLY)\n",
    "\n",
    "We now need to validate that the ODBC Driver #18 was installed in the correct location before we can complete the Data Ingestion guide."
   ]
  },
  {
   "cell_type": "markdown",
   "metadata": {},
   "source": [
    "1. Close your terminal window and re-open it. \n",
    "(Sometimes VSCode doesn't recognize the new path, closing and reopening helps.)\n",
    "\n",
    "* As a reminder, for Mac users, scroll to the Top, go to \"View\" > \"Terminal\""
   ]
  },
  {
   "cell_type": "markdown",
   "metadata": {},
   "source": [
    "2. Paste the following in your terminal:\n",
    "\n",
    "       odbcinst -j"
   ]
  },
  {
   "cell_type": "markdown",
   "metadata": {},
   "source": [
    "3. You should see an output in your terminal like this..."
   ]
  },
  {
   "cell_type": "markdown",
   "metadata": {},
   "source": [
    "<img src=\"https://raw.githubusercontent.com/TangoMango223/data_ingestion/main/Tutorial_pictures/18.png\" alt=\"Step #18\" style=\"width:500px;\">"
   ]
  },
  {
   "cell_type": "markdown",
   "metadata": {},
   "source": [
    "4. Under \"Drivers\", we will need to check the contents in the file path. \n",
    "\n",
    "* You will need to COPY the file path next to \"DRIVERS\". \n",
    "* For example, mine was \"/opt/homebrew/etc/odbcinst.ini\""
   ]
  },
  {
   "cell_type": "markdown",
   "metadata": {},
   "source": [
    "5. Copy the file path under \"DRIVERS\" and in terminal, type\n",
    "\n",
    "* FORMAT: cat < FILE PATH LOCATION >\n",
    "* For example: cat /opt/homebrew/etc/odbcinst.ini"
   ]
  },
  {
   "cell_type": "markdown",
   "metadata": {},
   "source": [
    "Here was my example and the output. If it looks like mine, then your ODBC installation path is correct, which is good news."
   ]
  },
  {
   "cell_type": "markdown",
   "metadata": {},
   "source": [
    "<img src=\"https://raw.githubusercontent.com/TangoMango223/data_ingestion/main/Tutorial_pictures/19.png\" alt=\"Step #19\" style=\"width:500px;\">"
   ]
  },
  {
   "cell_type": "markdown",
   "metadata": {},
   "source": [
    "# PART 4: Connect MMAI DB - using SQL Alchemy & Python"
   ]
  },
  {
   "cell_type": "markdown",
   "metadata": {},
   "source": [
    "1. Navigate to examples > connection_test.ipynb file"
   ]
  },
  {
   "cell_type": "markdown",
   "metadata": {},
   "source": [
    "2. You may need to select your kernel again before running the code.\n",
    "* On top-right corner, click \"Select Kernel\" > Python Environments ... \n",
    "* It will ask you to pick environment, click the \"venv\" one.\n",
    "* If you did it correctly, the top right corner should now say \".venv (Python Version___)"
   ]
  },
  {
   "cell_type": "markdown",
   "metadata": {},
   "source": [
    "<img src=\"https://raw.githubusercontent.com/TangoMango223/data_ingestion/main/Tutorial_pictures/21.png\" alt=\"Step #21\" style=\"width:500px;\">"
   ]
  },
  {
   "cell_type": "markdown",
   "metadata": {},
   "source": [
    "3. Now, go to \"Connection_text.ipynb\" and follow the instructions there. It should work now."
   ]
  }
 ],
 "metadata": {
  "kernelspec": {
   "display_name": ".venv",
   "language": "python",
   "name": "python3"
  },
  "language_info": {
   "codemirror_mode": {
    "name": "ipython",
    "version": 3
   },
   "file_extension": ".py",
   "mimetype": "text/x-python",
   "name": "python",
   "nbconvert_exporter": "python",
   "pygments_lexer": "ipython3",
   "version": "3.12.3"
  }
 },
 "nbformat": 4,
 "nbformat_minor": 2
}
